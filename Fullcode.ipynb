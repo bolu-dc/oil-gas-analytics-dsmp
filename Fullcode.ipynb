# ===============================
# 1) IMPORTS
# ===============================
import requests
import pandas as pd
import dash
from dash import dcc, html
import plotly.graph_objs as go
from dash import dash_table
from dash.dependencies import Input, Output
import numpy as np
from sklearn.linear_model import Ridge

# ===============================
# 2) FETCH USA DATA
# ===============================
# ===============================
api_key = "SnQCb3R6GzgsQt2Kk6wbmzRFFWvnKaLhqEGZktwB"

# List of API URLs for multiple states
apis = [
    f"https://api.eia.gov/v2/petroleum/crd/crpdn/data/?api_key={api_key}&frequency=monthly&data[0]=value&facets[series][]=MCRFPFL1&sort[0][column]=period&sort[0][direction]=desc&offset=0&length=5000",  # Florida
    f"https://api.eia.gov/v2/petroleum/crd/crpdn/data/?api_key={api_key}&frequency=monthly&data[0]=value&facets[series][]=MCRFPNY1&sort[0][column]=period&sort[0][direction]=desc&offset=0&length=5000",  # New York
    f"https://api.eia.gov/v2/petroleum/crd/crpdn/data/?api_key={api_key}&frequency=monthly&data[0]=value&facets[series][]=MCRFPPA1&sort[0][column]=period&sort[0][direction]=desc&offset=0&length=5000",  # Pennsylvania
    f"https://api.eia.gov/v2/petroleum/crd/crpdn/data/?api_key={api_key}&frequency=monthly&data[0]=value&facets[series][]=MCRFPVA1&sort[0][column]=period&sort[0][direction]=desc&offset=0&length=5000",  # Virginia
    f"https://api.eia.gov/v2/petroleum/crd/crpdn/data/?api_key={api_key}&frequency=monthly&data[0]=value&facets[series][]=MCRFPWV1&sort[0][column]=period&sort[0][direction]=desc&offset=0&length=5000",  # West Virginia
    f"https://api.eia.gov/v2/petroleum/crd/crpdn/data/?api_key={api_key}&frequency=monthly&data[0]=value&facets[series][]=MCRFPIL1&sort[0][column]=period&sort[0][direction]=desc&offset=0&length=5000",
    f"https://api.eia.gov/v2/petroleum/crd/crpdn/data/?api_key={api_key}&frequency=monthly&data[0]=value&facets[series][]=MCRFPIN1&sort[0][column]=period&sort[0][direction]=desc&offset=0&length=5000",
    f"https://api.eia.gov/v2/petroleum/crd/crpdn/data/?api_key={api_key}&frequency=monthly&data[0]=value&facets[series][]=MCRFPKS1&sort[0][column]=period&sort[0][direction]=desc&offset=0&length=5000",
    f"https://api.eia.gov/v2/petroleum/crd/crpdn/data/?api_key={api_key}&frequency=monthly&data[0]=value&facets[series][]=MCRFPKY1&sort[0][column]=period&sort[0][direction]=desc&offset=0&length=5000",
    f"https://api.eia.gov/v2/petroleum/crd/crpdn/data/?api_key={api_key}&frequency=monthly&data[0]=value&facets[series][]=MCRFP_SMI_1&sort[0][column]=period&sort[0][direction]=desc&offset=0&length=5000",
    f"https://api.eia.gov/v2/petroleum/crd/crpdn/data/?api_key={api_key}&frequency=monthly&data[0]=value&facets[series][]=MCRFPMO1&sort[0][column]=period&sort[0][direction]=desc&offset=0&length=5000",
    f"https://api.eia.gov/v2/petroleum/crd/crpdn/data/?api_key={api_key}&frequency=monthly&data[0]=value&facets[series][]=MCRFPNE1&sort[0][column]=period&sort[0][direction]=desc&offset=0&length=5000",
    f"https://api.eia.gov/v2/petroleum/crd/crpdn/data/?api_key={api_key}&frequency=monthly&data[0]=value&facets[series][]=MCRFPND1&sort[0][column]=period&sort[0][direction]=desc&offset=0&length=5000",
    f"https://api.eia.gov/v2/petroleum/crd/crpdn/data/?api_key={api_key}&frequency=monthly&data[0]=value&facets[series][]=MCRFPOH1&sort[0][column]=period&sort[0][direction]=desc&offset=0&length=5000",
    f"https://api.eia.gov/v2/petroleum/crd/crpdn/data/?api_key={api_key}&frequency=monthly&data[0]=value&facets[series][]=MCRFPOK1&sort[0][column]=period&sort[0][direction]=desc&offset=0&length=5000",
    f"https://api.eia.gov/v2/petroleum/crd/crpdn/data/?api_key={api_key}&frequency=monthly&data[0]=value&facets[series][]=MCRFPSD1&sort[0][column]=period&sort[0][direction]=desc&offset=0&length=5000",
    f"https://api.eia.gov/v2/petroleum/crd/crpdn/data/?api_key={api_key}&frequency=monthly&data[0]=value&facets[series][]=MCRFPTN1&sort[0][column]=period&sort[0][direction]=desc&offset=0&length=5000"
    f"https://api.eia.gov/v2/petroleum/crd/crpdn/data/?api_key={api_key}&frequency=monthly&data[0]=value&facets[series][]=MCRFPAL1&sort[0][column]=period&sort[0][direction]=desc&offset=0&length=5000",
    f"https://api.eia.gov/v2/petroleum/crd/crpdn/data/?api_key={api_key}&frequency=monthly&data[0]=value&facets[series][]=MCRFPAR1&sort[0][column]=period&sort[0][direction]=desc&offset=0&length=5000",
    f"https://api.eia.gov/v2/petroleum/crd/crpdn/data/?api_key={api_key}&frequency=monthly&data[0]=value&facets[series][]=MCRFPLA1&sort[0][column]=period&sort[0][direction]=desc&offset=0&length=5000",
    f"https://api.eia.gov/v2/petroleum/crd/crpdn/data/?api_key={api_key}&frequency=monthly&data[0]=value&facets[series][]=MCRFPMS1&sort[0][column]=period&sort[0][direction]=desc&offset=0&length=5000",
    f"https://api.eia.gov/v2/petroleum/crd/crpdn/data/?api_key={api_key}&frequency=monthly&data[0]=value&facets[series][]=MCRFPNM1&sort[0][column]=period&sort[0][direction]=desc&offset=0&length=5000",
    f"https://api.eia.gov/v2/petroleum/crd/crpdn/data/?api_key={api_key}&frequency=monthly&data[0]=value&facets[series][]=MCRFPTX1&sort[0][column]=period&sort[0][direction]=desc&offset=0&length=5000",
    f"https://api.eia.gov/v2/petroleum/crd/crpdn/data/?api_key={api_key}&frequency=monthly&data[0]=value&facets[series][]=MCRFP3FM1&sort[0][column]=period&sort[0][direction]=desc&offset=0&length=5000"
    f"https://api.eia.gov/v2/petroleum/crd/crpdn/data/?api_key={api_key}&frequency=monthly&data[0]=value&facets[series][]=MCRFPCO1&sort[0][column]=period&sort[0][direction]=desc&offset=0&length=5000",
    f"https://api.eia.gov/v2/petroleum/crd/crpdn/data/?api_key={api_key}&frequency=monthly&data[0]=value&facets[series][]=M_EPC0_FPF_SID_MBBL&sort[0][column]=period&sort[0][direction]=desc&offset=0&length=5000",
    f"https://api.eia.gov/v2/petroleum/crd/crpdn/data/?api_key={api_key}&frequency=monthly&data[0]=value&facets[series][]=MCRFPMT1&sort[0][column]=period&sort[0][direction]=desc&offset=0&length=5000",
    f"https://api.eia.gov/v2/petroleum/crd/crpdn/data/?api_key={api_key}&frequency=monthly&data[0]=value&facets[series][]=MCRFPUT1&sort[0][column]=period&sort[0][direction]=desc&offset=0&length=5000",
    f"https://api.eia.gov/v2/petroleum/crd/crpdn/data/?api_key={api_key}&frequency=monthly&data[0]=value&facets[series][]=MCRFPWY1&sort[0][column]=period&sort[0][direction]=desc&offset=0&length=5000"
    f"https://api.eia.gov/v2/petroleum/sum/crdsnd/data/?api_key={api_key}&frequency=monthly&data[0]=value&facets[series][]=MCRFPAK1&sort[0][column]=period&sort[0][direction]=desc&offset=0&length=5000",
    f"https://api.eia.gov/v2/petroleum/crd/crpdn/data/?api_key={api_key}&frequency=monthly&data[0]=value&facets[series][]=MCRFPAZ1&sort[0][column]=period&sort[0][direction]=desc&offset=0&length=5000",
    f"https://api.eia.gov/v2/petroleum/crd/crpdn/data/?api_key={api_key}&frequency=monthly&data[0]=value&facets[series][]=MCRFPCA1&sort[0][column]=period&sort[0][direction]=desc&offset=0&length=5000",
    f"https://api.eia.gov/v2/petroleum/crd/crpdn/data/?api_key={api_key}&frequency=monthly&data[0]=value&facets[series][]=MCRFPNV1&sort[0][column]=period&sort[0][direction]=desc&offset=0&length=5000",
    f"https://api.eia.gov/v2/petroleum/crd/crpdn/data/?api_key={api_key}&frequency=monthly&data[0]=value&facets[series][]=MCRFP5F1&sort[0][column]=period&sort[0][direction]=desc&offset=0&length=5000"
]

# Series to State mapping
series_to_state = [
    ("MCRFPFL1", "Florida"),
    ("MCRFPNY1", "New York"),
    ("MCRFPPA1", "Pennsylvania"),
    ("MCRFPVA1", "Virginia"),
    ("MCRFPWV1", "West Virginia"),
    ("MCRFPIL1", "Illinois"),
    ("MCRFPIN1", "Indiana"),
    ("MCRFPKS1", "Kansas"),
    ("MCRFPKY1", "Kentucky"),
    ("MCRFP_SMI_1", "Michigan"),
    ("MCRFPMO1", "Missouri"),
    ("MCRFPNE1", "Nebraska"),
    ("MCRFPND1", "North Dakota"),
    ("MCRFPOH1", "Ohio"),
    ("MCRFPOK1", "Oklahoma"),
    ("MCRFPSD1", "South Dakota"),
    ("MCRFPTN1", "Tennessee"),
    ("MCRFPAL1", "Alabama"),
    ("MCRFPAR1", "Arkansas"),
    ("MCRFPLA1", "Louisiana"),
    ("MCRFPMS1", "Mississippi"),
    ("MCRFPNM1", "New Mexico"),
    ("MCRFPTX1", "Texas"),
    ("MCRFP3FM1", "Federal Offshore (PADD 3)"),
    ("MCRFPCO1", "Colorado"),
    ("MCRFPMT1", "Montana"),
    ("MCRFPUT1", "Utah"),
    ("MCRFPWY1", "Wyoming"),
    ("MCRFPAK1", "Alaska"),
    ("MCRFPAZ1", "Arizona"),
    ("MCRFPCA1", "California"),
    ("MCRFPNV1", "Nevada"),
    ("MCRFP5F1", "Federal Offshore (PADD 5)")
]
# PADD regions
padd_to_states = {
    "PADD 1": ['Florida','New York','Pennsylvania','Virginia','West Virginia','Kentucky','Tennessee'],
    "PADD 2": ['Illinois','Indiana','Kansas','Michigan','Missouri','North Dakota','Nebraska','Ohio','South Dakota'],
    "PADD 3": ['Alabama','Arkansas','Louisiana','Mississippi','New Mexico','Oklahoma','Texas','Federal Offshore (PADD 3)'],
    "PADD 4": ['Colorado','Montana','Utah','Wyoming'],
    "PADD 5": ['Alaska','Arizona','California','Nevada','Federal Offshore (PADD 5)']
}

def fetch_usa_data():
    all_data = []
    for series, state in series_to_state:
        url = (
            f"https://api.eia.gov/v2/petroleum/crd/crpdn/data/"
            f"?api_key={api_key}&frequency=monthly&data[0]=value"
            f"&facets[series][]={series}&sort[0][column]=period&sort[0][direction]=asc"
            f"&offset=0&length=5000"
        )
        r = requests.get(url)
        r.raise_for_status()
        raw = r.json().get('response', {}).get('data', [])
        df_api = pd.DataFrame(raw)
        df_api['period'] = pd.to_datetime(df_api['period'], errors='coerce')
        df_api['value'] = pd.to_numeric(df_api['value'], errors='coerce')
        df_api['country'] = 'USA'
        df_api['state'] = state
        all_data.append(df_api)
    df = pd.concat(all_data, ignore_index=True)
    df['year'] = df['period'].dt.year
    df['month'] = df['period'].dt.month
    df['days_in_month'] = df['period'].dt.days_in_month
    df['daily_value'] = df['value'] / df['days_in_month']
    return df[df['year'] >= 2000]

# ===============================
# 3) LOAD CANADA DATA
# ===============================
def load_canadian_data(path="estimated-production-canadian-crude-oil-equivalent.xlsx"):
    df_raw = pd.read_excel(path, sheet_name="HIST - barrels per day")
    df_raw.dropna(how='all', inplace=True)
    df_raw.dropna(axis=1, how='all', inplace=True)
    df_raw.rename(columns={df_raw.columns[0]: 'period'}, inplace=True)
    df_raw['period'] = pd.to_datetime(df_raw['period'], errors='coerce')
    df_raw.dropna(subset=['period'], inplace=True)
    exclude = ['Canada Total', 'Raw Mined Bitumen', 'Raw In Situ Bitumen']
    df_raw = df_raw.loc[:, ~df_raw.columns.isin(exclude)]
    province_groups = {}
    for col in df_raw.columns[1:]:
        if isinstance(col, str) and len(col) >= 2:
            prov = col.strip()[:2]
            province_groups.setdefault(prov, []).append(col)
    data = {'period': df_raw['period']}
    for prov, cols in province_groups.items():
        data[prov] = df_raw[cols].sum(axis=1) / 1000
    df_can = pd.DataFrame(data)
    df_long = df_can.melt(id_vars='period', var_name='state', value_name='daily_value')
    df_long['country'] = 'Canada'
    df_long['year'] = df_long['period'].dt.year
    df_long['month'] = df_long['period'].dt.month
    return df_long[df_long['year'] >= 2000]

# ===============================
# 4) COMBINE DATA
# ===============================
df_usa = fetch_usa_data()
df_can = load_canadian_data()
df_all = pd.concat([df_usa, df_can], ignore_index=True)
# Exclude any data after January 2025
df_all = df_all[df_all['period'] <= pd.Timestamp('2025-01-31')]

padd_to_states = {
    "PADD 1": ['Maine','New Hampshire','Vermont','Massachusetts','Rhode Island','Connecticut',
               'New York','New Jersey','Pennsylvania'],
    "PADD 2": ['Ohio','Michigan','Indiana','Illinois','Wisconsin','Minnesota','Iowa','Missouri',
               'North Dakota','South Dakota','Nebraska','Kansas'],
    "PADD 3": ['Texas','Louisiana','Mississippi','Alabama','Florida','Arkansas','Oklahoma',
               'New Mexico','Federal Offshore (Gulf)'],
    "PADD 4": ['Montana','Idaho','Wyoming','Colorado','Utah','Nevada','Arizona','Washington',
               'Oregon'],
    "PADD 5": ['California','Alaska','Hawaii','Washington (Pacific)','Oregon (Pacific)',
               'Federal Offshore (Pacific)']
}

countries = df_all['country'].unique()
states_by_country = {c: sorted(df_all[df_all['country']==c]['state'].unique()) for c in countries}

# ===============================
# 5) APP LAYOUT
# ===============================
app = dash.Dash(__name__)
app.layout = html.Div([
    html.H1('Crude Oil Production Dashboard'),
    html.Div(id='error-message', style={'color':'red','fontWeight':'bold'}),
    html.Div([  # Row 1
        html.Div([html.Label('Start Year'), dcc.Dropdown(id='start-year', options=[{'label':y,'value':y} for y in sorted(df_all.year.unique())], value=df_all.year.min())], style={'flex':1}),
        html.Div([html.Label('Start Month'), dcc.Dropdown(id='start-month', options=[{'label':m,'value':m} for m in range(1,13)], value=1)], style={'flex':1}),
        html.Div([html.Label('PADD'), dcc.Dropdown(id='padd', options=[{'label':p,'value':p} for p in padd_to_states.keys()], multi=True, value=[])], style={'flex':1})
    ], style={'display':'flex','gap':'20px'}),
    html.Div([  # Row 2
        html.Div([html.Label('End Year'), dcc.Dropdown(id='end-year', options=[{'label':y,'value':y} for y in sorted(df_all.year.unique())], value=df_all.year.max())], style={'flex':1}),
        html.Div([html.Label('End Month'), dcc.Dropdown(id='end-month', options=[{'label':m,'value':m} for m in range(1,13)], value=1)], style={'flex':1}),
        html.Div([html.Label('State(s)'), dcc.Dropdown(id='state-dropdown', options=[], multi=True, value=[], disabled=True)], style={'flex':1})
    ], style={'display':'flex','gap':'20px','marginTop':'10px'}),
    html.Div([  # Row 3
        html.Div([html.Label('Country'), dcc.Dropdown(id='country-dropdown', options=[{'label':c,'value':c} for c in countries], multi=True, value=['USA'])], style={'flex':1}),
        html.Div([html.Label('Province(s)'), dcc.Dropdown(id='province-dropdown', options=[], multi=True, value=[])], style={'flex':1})
    ], style={'display':'flex','gap':'20px','marginTop':'10px'}),
    html.Div(dcc.Checklist(id='forecast-options', options=[{'label':'Forecast Next 12 Months','value':'forecast'},{'label':'Use Most Recent 10 Years','value':'recent'}], value=[]), style={'marginTop':'20px'}),
    dcc.Graph(id='line-plot'),
    dash_table.DataTable(id='data-table')
])

# ===============================
# 6) CALLBACKS
# ===============================
@app.callback(
    [Output('state-dropdown','options'), Output('province-dropdown','options'), Output('state-dropdown','disabled')],
    [Input('country-dropdown','value'), Input('padd','value')]
)
def update_regions(selected_countries, selected_padds):
    disabled = not ('USA' in selected_countries and bool(selected_padds))
    state_opts = []
    prov_opts = []
    if 'USA' in selected_countries and selected_padds:
        valid_states = []
        for p in selected_padds:
            valid_states.extend(padd_to_states.get(p, []))
        valid_states = sorted(set(valid_states))
        state_opts = [{'label': s, 'value': s} for s in valid_states]
    if 'Canada' in selected_countries:
        prov_opts = [{'label': s, 'value': s} for s in states_by_country['Canada']]
    return state_opts, prov_opts, disabled

@app.callback(
    [Output('error-message','children'), Output('line-plot','figure'), Output('data-table','data')],
    [Input('start-year','value'), Input('start-month','value'), Input('end-year','value'), Input('end-month','value'),
     Input('country-dropdown','value'), Input('state-dropdown','value'), Input('province-dropdown','value'),
     Input('forecast-options','value')]
)
def update_plot(sy, sm, ey, em, countries, states, provinces, forecast_opts):
    # determine latest available period
    latest = df_all['period'].max()
    latest_year, latest_month = latest.year, latest.month
    use_recent = 'recent' in forecast_opts
    error_text = ""
    # only show error if forecast selected and neither recent nor end equals latest
    if 'forecast' in forecast_opts and not (use_recent or (ey == latest_year and em == latest_month)):
        error_text = "⚠️ Forecast disabled: end date must be latest unless using recent data."

    # apply date filtering
    start = pd.Timestamp(year=sy, month=sm, day=1)
    end = pd.Timestamp(year=ey, month=em, day=1)
    df = df_all.copy()
    if use_recent:
        cutoff = df['period'].max() - pd.DateOffset(years=10)
        df = df[df['period'] >= cutoff]
    else:
        df = df[(df['period'] >= start) & (df['period'] <= end)]

    # build plot and table
    fig = go.Figure()
    rows = []
    for country in countries:
        regs = states if country == 'USA' else provinces
        for r in regs or []:
            dsub = df[(df.country == country) & (df.state == r)]
            fig.add_trace(go.Scatter(
                x=dsub.period, y=dsub.daily_value, mode='lines+markers', name=f"{country}-{r}"
            ))
            rows += dsub.to_dict('records')
            # forecast if allowed
            if 'forecast' in forecast_opts and (use_recent or (ey == latest_year and em == latest_month)) and len(dsub) > 24:
                X = dsub.period.map(pd.Timestamp.toordinal).values.reshape(-1,1)
                y = dsub.daily_value.values
                m = Ridge().fit(X, y)
                last = dsub.period.max()
                fut = pd.date_range(last + pd.DateOffset(months=1), periods=12, freq='MS')
                yf = m.predict(fut.map(pd.Timestamp.toordinal).values.reshape(-1,1))
                fig.add_trace(go.Scatter(
                    x=fut, y=yf, mode='lines', line=dict(dash='dash'), name=f"{country}-{r} Forecast"
                ))
    fig.update_layout(
        title='Crude Oil Production',
        xaxis_title='Date',
        yaxis_title='Barrels/day',
        yaxis=dict(rangemode='tozero')
    )
    return error_text, fig, rows

# ===============================
# 7) RUN APP
# ===============================
if __name__=='__main__':
    app.run_server(debug=True)
