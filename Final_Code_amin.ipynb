{
 "cells": [
  {
   "cell_type": "code",
   "execution_count": null,
   "id": "678dc4ae-9b2f-4fca-bda7-9bdf875ddcf8",
   "metadata": {},
   "outputs": [],
   "source": []
  }
 ],
 "metadata": {
  "kernelspec": {
   "display_name": "",
   "name": ""
  },
  "language_info": {
   "name": ""
  }
 },
 "nbformat": 4,
 "nbformat_minor": 5
}
